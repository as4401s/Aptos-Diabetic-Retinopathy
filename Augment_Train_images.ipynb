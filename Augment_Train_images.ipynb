{
 "cells": [
  {
   "cell_type": "code",
   "execution_count": 1,
   "metadata": {},
   "outputs": [],
   "source": [
    "import os\n",
    "import cv2 as cv\n",
    "import SimpleITK as sitk\n",
    "import random\n",
    "import matplotlib.pyplot as plt\n",
    "import numpy as np\n",
    "from skimage import io \n",
    "from skimage.transform import rotate, AffineTransform, warp\n",
    "from skimage.util import random_noise\n",
    "import pandas as pd\n",
    "import tensorflow as tf\n",
    "import csv\n",
    "import imutils"
   ]
  },
  {
   "cell_type": "code",
   "execution_count": 2,
   "metadata": {},
   "outputs": [
    {
     "name": "stdout",
     "output_type": "stream",
     "text": [
      "Directory already exists\n"
     ]
    }
   ],
   "source": [
    "if not os.path.exists('H:/Kaggle datasets/Thesis_Diabetic/Diabetic_Retinopathy/Augmented'):\n",
    "    \n",
    "    try:\n",
    "        \n",
    "        os.mkdir('H:/Kaggle datasets/Thesis_Diabetic/Diabetic_Retinopathy/Augmented/')\n",
    "        os.mkdir('H:/Kaggle datasets/Thesis_Diabetic/Diabetic_Retinopathy/Augmented/Train')\n",
    "        os.mkdir('H:/Kaggle datasets/Thesis_Diabetic/Diabetic_Retinopathy/Augmented/Train/Level_0')\n",
    "        os.mkdir('H:/Kaggle datasets/Thesis_Diabetic/Diabetic_Retinopathy/Augmented/Train/Level_1')\n",
    "        os.mkdir('H:/Kaggle datasets/Thesis_Diabetic/Diabetic_Retinopathy/Augmented/Train/Level_2')\n",
    "        os.mkdir('H:/Kaggle datasets/Thesis_Diabetic/Diabetic_Retinopathy/Augmented/Train/Level_3')\n",
    "        os.mkdir('H:/Kaggle datasets/Thesis_Diabetic/Diabetic_Retinopathy/Augmented/Train/Level_4')\n",
    "        \n",
    "    except OSError:\n",
    "        \n",
    "        print('Creation of directory failed')\n",
    "        \n",
    "    else:\n",
    "        \n",
    "        print('Successfully created directory')\n",
    "        \n",
    "else:\n",
    "    \n",
    "    print('Directory already exists')"
   ]
  },
  {
   "cell_type": "code",
   "execution_count": 3,
   "metadata": {},
   "outputs": [],
   "source": [
    "image_size = 1024"
   ]
  },
  {
   "cell_type": "code",
   "execution_count": 4,
   "metadata": {},
   "outputs": [],
   "source": [
    "def create_csv(name,image_path):\n",
    "    \n",
    "    data=[]\n",
    "    \n",
    "    with open(f'{name}.csv', 'w', newline='') as writeFile:\n",
    "        writer = csv.writer(writeFile)\n",
    "        for filename in os.listdir(image_path):\n",
    "            data.append(filename)\n",
    "            writer.writerow(data)\n",
    "            data=[]\n",
    "    writeFile.close()"
   ]
  },
  {
   "cell_type": "code",
   "execution_count": 5,
   "metadata": {},
   "outputs": [],
   "source": [
    "name0 = 'Level_0'\n",
    "path0 = 'H:/Kaggle datasets/Thesis_Diabetic/Diabetic_Retinopathy/Train/Level_0/'\n",
    "create_csv(name=name0,image_path=path0)\n",
    "\n",
    "name1 = 'Level_1'\n",
    "path1 = 'H:/Kaggle datasets/Thesis_Diabetic/Diabetic_Retinopathy/Train/Level_1/'\n",
    "create_csv(name=name1,image_path=path1)\n",
    "\n",
    "name2 = 'Level_2'\n",
    "path2 = 'H:/Kaggle datasets/Thesis_Diabetic/Diabetic_Retinopathy/Train/Level_2/'\n",
    "create_csv(name=name2,image_path=path2)\n",
    "\n",
    "name3 = 'Level_3'\n",
    "path3 = 'H:/Kaggle datasets/Thesis_Diabetic/Diabetic_Retinopathy/Train/Level_3/'\n",
    "create_csv(name=name3,image_path=path3)\n",
    "\n",
    "name4 = 'Level_4'\n",
    "path4 = 'H:/Kaggle datasets/Thesis_Diabetic/Diabetic_Retinopathy/Train/Level_4/'\n",
    "create_csv(name=name4,image_path=path4)"
   ]
  },
  {
   "cell_type": "code",
   "execution_count": 6,
   "metadata": {},
   "outputs": [
    {
     "data": {
      "text/html": [
       "<div>\n",
       "<style scoped>\n",
       "    .dataframe tbody tr th:only-of-type {\n",
       "        vertical-align: middle;\n",
       "    }\n",
       "\n",
       "    .dataframe tbody tr th {\n",
       "        vertical-align: top;\n",
       "    }\n",
       "\n",
       "    .dataframe thead th {\n",
       "        text-align: right;\n",
       "    }\n",
       "</style>\n",
       "<table border=\"1\" class=\"dataframe\">\n",
       "  <thead>\n",
       "    <tr style=\"text-align: right;\">\n",
       "      <th></th>\n",
       "      <th>image</th>\n",
       "      <th>type</th>\n",
       "    </tr>\n",
       "  </thead>\n",
       "  <tbody>\n",
       "    <tr>\n",
       "      <th>0</th>\n",
       "      <td>002c21358ce6_Train_Level_0</td>\n",
       "      <td>png</td>\n",
       "    </tr>\n",
       "    <tr>\n",
       "      <th>1</th>\n",
       "      <td>005b95c28852_Train_Level_0</td>\n",
       "      <td>png</td>\n",
       "    </tr>\n",
       "    <tr>\n",
       "      <th>2</th>\n",
       "      <td>0097f532ac9f_Train_Level_0</td>\n",
       "      <td>png</td>\n",
       "    </tr>\n",
       "    <tr>\n",
       "      <th>3</th>\n",
       "      <td>00cc2b75cddd_Train_Level_0</td>\n",
       "      <td>png</td>\n",
       "    </tr>\n",
       "    <tr>\n",
       "      <th>4</th>\n",
       "      <td>00f6c1be5a33_Train_Level_0</td>\n",
       "      <td>png</td>\n",
       "    </tr>\n",
       "  </tbody>\n",
       "</table>\n",
       "</div>"
      ],
      "text/plain": [
       "                        image type\n",
       "0  002c21358ce6_Train_Level_0  png\n",
       "1  005b95c28852_Train_Level_0  png\n",
       "2  0097f532ac9f_Train_Level_0  png\n",
       "3  00cc2b75cddd_Train_Level_0  png\n",
       "4  00f6c1be5a33_Train_Level_0  png"
      ]
     },
     "execution_count": 6,
     "metadata": {},
     "output_type": "execute_result"
    }
   ],
   "source": [
    "df_level0 = pd.read_csv('Level_0.csv',delimiter = '.',names=['image','type'])\n",
    "df_level1 = pd.read_csv('Level_1.csv',delimiter = '.',names=['image','type'])\n",
    "df_level2 = pd.read_csv('Level_2.csv',delimiter = '.',names=['image','type'])\n",
    "df_level3 = pd.read_csv('Level_3.csv',delimiter = '.',names=['image','type'])\n",
    "df_level4 = pd.read_csv('Level_4.csv',delimiter = '.',names=['image','type'])\n",
    "\n",
    "df_level0.head()"
   ]
  },
  {
   "cell_type": "code",
   "execution_count": 7,
   "metadata": {},
   "outputs": [],
   "source": [
    "def rotate(image):\n",
    "    \n",
    "    angle = random.randint(0,360)\n",
    "    rotated = imutils.rotate(image,angle)\n",
    "    return rotated\n",
    "\n",
    "def flip (image):\n",
    "    \n",
    "    flipped = np.fliplr(image)\n",
    "    return flipped\n",
    "\n",
    "def flip2 (image):\n",
    "    \n",
    "    flipped = tf.image.random_flip_up_down(image)\n",
    "    return flipped\n",
    "\n",
    "def gamma (image):\n",
    "    \n",
    "    value = random.uniform(0.5,1.5)\n",
    "    gamma = tf.image.adjust_gamma(image, value)\n",
    "    return gamma\n",
    "\n",
    "def translation (image):\n",
    "    \n",
    "    x= random.randint(-100,100)\n",
    "    y = random.randint(-100,100)\n",
    "    rows,cols,z = image.shape\n",
    "    M = np.float32([[1,0,x],[0,1,y]])\n",
    "    translate = cv.warpAffine(image,M,(cols,rows))\n",
    "    return translate\n",
    "\n",
    "def crop (image):\n",
    "    \n",
    "    crop = tf.image.central_crop(image,0.9)\n",
    "    return crop\n",
    "\n",
    "def saturate (image):\n",
    "    \n",
    "    saturated = tf.image.random_saturation(image,2,6)\n",
    "    return saturated\n",
    "\n",
    "def brightness (image):\n",
    "\n",
    "    brightness = tf.image.random_brightness(image,0.4)\n",
    "    return brightness\n",
    "\n",
    "def contrast (image):\n",
    "    \n",
    "    contrast = tf.image.random_contrast(image,0.8,2)\n",
    "    return contrast\n",
    "\n",
    "def hue (image):\n",
    "    \n",
    "    hue = tf.image.random_hue(image,0.5)\n",
    "    return hue"
   ]
  },
  {
   "cell_type": "code",
   "execution_count": 8,
   "metadata": {},
   "outputs": [],
   "source": [
    "def apply_aug (image):\n",
    "    \n",
    "    number = random.randint(1,20)\n",
    "    \n",
    "    if number == 1:\n",
    "        image= rotate(image)\n",
    "            \n",
    "    if number == 2:\n",
    "        image= flip(image)\n",
    "        \n",
    "    if number == 3:\n",
    "        image= flip2(image)\n",
    "        \n",
    "    if number == 4:\n",
    "        image= gamma(image)\n",
    "                \n",
    "    if number == 5:\n",
    "        image= translation(image)\n",
    "        \n",
    "    if number == 6:\n",
    "        image = crop(image)\n",
    "        \n",
    "    if number == 7:\n",
    "        image = saturate(image)\n",
    "        \n",
    "    if number == 8:\n",
    "        image = brightness (image)\n",
    "        \n",
    "    if number == 9:\n",
    "        image = contrast (image)\n",
    "        \n",
    "    if number == 10:\n",
    "        image = hue(image)\n",
    "        \n",
    "    if number == 11:\n",
    "        i = translation(image)\n",
    "        image = rotate(i)\n",
    "    \n",
    "    if number == 12:\n",
    "        i = crop(image)\n",
    "        image = contrast(i)\n",
    "        \n",
    "    if number == 13:\n",
    "        i = rotate(image)\n",
    "        image = crop(i)\n",
    "        \n",
    "    if number == 14:\n",
    "        i = translation(image)\n",
    "        image = gamma(i)\n",
    "        \n",
    "    if number == 15:\n",
    "        i = translation(image)\n",
    "        image = flip(i)\n",
    "        \n",
    "    if number == 16:\n",
    "        i = translation(image)\n",
    "        image = flip2(i)\n",
    "        \n",
    "    if number == 17:\n",
    "        i = flip(image)\n",
    "        image = flip2(i)\n",
    "        \n",
    "    if number == 18:\n",
    "        i = rotate(image)\n",
    "        image = saturate(i)\n",
    "        \n",
    "    if number == 19:\n",
    "        i = rotate(image)\n",
    "        image = flip(i)\n",
    "        \n",
    "    if number == 20:\n",
    "        i = rotate(image)\n",
    "        image = flip2(i)\n",
    "    \n",
    "    return image"
   ]
  },
  {
   "cell_type": "code",
   "execution_count": 9,
   "metadata": {},
   "outputs": [
    {
     "data": {
      "text/plain": [
       "<matplotlib.image.AxesImage at 0x1c5d7ee8700>"
      ]
     },
     "execution_count": 9,
     "metadata": {},
     "output_type": "execute_result"
    },
    {
     "data": {
      "image/png": "[encoded data removed]",
      "text/plain": [
       "<Figure size 432x288 with 1 Axes>"
      ]
     },
     "metadata": {
      "needs_background": "light"
     },
     "output_type": "display_data"
    }
   ],
   "source": [
    "img1 = sitk.ReadImage('H:/Kaggle datasets/Thesis_Diabetic/Diabetic_Retinopathy/Train/Level_0/0a85a1e8f9e9_Train_Level_0.png')\n",
    "img1 = sitk.GetArrayFromImage(img1)\n",
    "image1 = apply_aug(img1)\n",
    "plt.imshow(image1)"
   ]
  },
  {
   "cell_type": "code",
   "execution_count": 10,
   "metadata": {},
   "outputs": [
    {
     "name": "stdout",
     "output_type": "stream",
     "text": [
      "image    1507\n",
      "type     1507\n",
      "dtype: int64\n",
      "image    328\n",
      "type     328\n",
      "dtype: int64\n",
      "image    854\n",
      "type     854\n",
      "dtype: int64\n",
      "image    165\n",
      "type     165\n",
      "dtype: int64\n",
      "image    246\n",
      "type     246\n",
      "dtype: int64\n"
     ]
    }
   ],
   "source": [
    "print(df_level0.count())\n",
    "print(df_level1.count())\n",
    "print(df_level2.count())\n",
    "print(df_level3.count())\n",
    "print(df_level4.count())"
   ]
  },
  {
   "cell_type": "code",
   "execution_count": 11,
   "metadata": {},
   "outputs": [
    {
     "name": "stdout",
     "output_type": "stream",
     "text": [
      "1493\n",
      "2672\n",
      "2146\n",
      "2835\n",
      "2754\n"
     ]
    }
   ],
   "source": [
    "create = 3000\n",
    "\n",
    "print (create-1507)\n",
    "print (create-328)\n",
    "print (create-854)\n",
    "print (create-165)\n",
    "print (create-246)"
   ]
  },
  {
   "cell_type": "code",
   "execution_count": 12,
   "metadata": {},
   "outputs": [],
   "source": [
    "def oversample_images(iterations,level,df,path,image_size):\n",
    "    \n",
    "    a = 1\n",
    "    p = 1\n",
    "    for a in range(iterations):\n",
    "        \n",
    "        for i, item in df.iterrows():\n",
    "        \n",
    "            img = sitk.ReadImage(path + item[0] + '.png')\n",
    "            img = sitk.GetArrayFromImage(img)\n",
    "            img = apply_aug(img)\n",
    "            \n",
    "            io.imsave(f'H:/Kaggle datasets/Thesis_Diabetic/Diabetic_Retinopathy/Augmented/Train/Level_{level}/{item[0]}_{p}.png',img)\n",
    "            p +=1"
   ]
  },
  {
   "cell_type": "code",
   "execution_count": 13,
   "metadata": {},
   "outputs": [],
   "source": [
    "oversample_images(iterations=1,level=0,df=df_level0,path = path0, image_size = 1024)"
   ]
  },
  {
   "cell_type": "code",
   "execution_count": 14,
   "metadata": {},
   "outputs": [
    {
     "name": "stderr",
     "output_type": "stream",
     "text": [
      "<ipython-input-12-7595a1c0a051>:13: UserWarning: H:/Kaggle datasets/Thesis_Diabetic/Diabetic_Retinopathy/Augmented/Train/Level_1/6d292ca4c9ad_Train_Level_1_175.png is a low contrast image\n",
      "  io.imsave(f'H:/Kaggle datasets/Thesis_Diabetic/Diabetic_Retinopathy/Augmented/Train/Level_{level}/{item[0]}_{p}.png',img)\n",
      "<ipython-input-12-7595a1c0a051>:13: UserWarning: H:/Kaggle datasets/Thesis_Diabetic/Diabetic_Retinopathy/Augmented/Train/Level_1/278aa860dffd_Train_Level_1_386.png is a low contrast image\n",
      "  io.imsave(f'H:/Kaggle datasets/Thesis_Diabetic/Diabetic_Retinopathy/Augmented/Train/Level_{level}/{item[0]}_{p}.png',img)\n",
      "<ipython-input-12-7595a1c0a051>:13: UserWarning: H:/Kaggle datasets/Thesis_Diabetic/Diabetic_Retinopathy/Augmented/Train/Level_1/8714d17bb6da_Train_Level_1_537.png is a low contrast image\n",
      "  io.imsave(f'H:/Kaggle datasets/Thesis_Diabetic/Diabetic_Retinopathy/Augmented/Train/Level_{level}/{item[0]}_{p}.png',img)\n",
      "<ipython-input-12-7595a1c0a051>:13: UserWarning: H:/Kaggle datasets/Thesis_Diabetic/Diabetic_Retinopathy/Augmented/Train/Level_1/5b0e53f53ef3_Train_Level_1_1132.png is a low contrast image\n",
      "  io.imsave(f'H:/Kaggle datasets/Thesis_Diabetic/Diabetic_Retinopathy/Augmented/Train/Level_{level}/{item[0]}_{p}.png',img)\n",
      "<ipython-input-12-7595a1c0a051>:13: UserWarning: H:/Kaggle datasets/Thesis_Diabetic/Diabetic_Retinopathy/Augmented/Train/Level_1/c739ff9580d3_Train_Level_1_1609.png is a low contrast image\n",
      "  io.imsave(f'H:/Kaggle datasets/Thesis_Diabetic/Diabetic_Retinopathy/Augmented/Train/Level_{level}/{item[0]}_{p}.png',img)\n",
      "<ipython-input-12-7595a1c0a051>:13: UserWarning: H:/Kaggle datasets/Thesis_Diabetic/Diabetic_Retinopathy/Augmented/Train/Level_1/ca1036496659_Train_Level_1_1614.png is a low contrast image\n",
      "  io.imsave(f'H:/Kaggle datasets/Thesis_Diabetic/Diabetic_Retinopathy/Augmented/Train/Level_{level}/{item[0]}_{p}.png',img)\n",
      "<ipython-input-12-7595a1c0a051>:13: UserWarning: H:/Kaggle datasets/Thesis_Diabetic/Diabetic_Retinopathy/Augmented/Train/Level_1/2a8a9e957a6c_Train_Level_1_2360.png is a low contrast image\n",
      "  io.imsave(f'H:/Kaggle datasets/Thesis_Diabetic/Diabetic_Retinopathy/Augmented/Train/Level_{level}/{item[0]}_{p}.png',img)\n",
      "<ipython-input-12-7595a1c0a051>:13: UserWarning: H:/Kaggle datasets/Thesis_Diabetic/Diabetic_Retinopathy/Augmented/Train/Level_1/ad3fc5076852_Train_Level_1_2556.png is a low contrast image\n",
      "  io.imsave(f'H:/Kaggle datasets/Thesis_Diabetic/Diabetic_Retinopathy/Augmented/Train/Level_{level}/{item[0]}_{p}.png',img)\n"
     ]
    }
   ],
   "source": [
    "oversample_images(iterations=8,level=1,df=df_level1,path = path1, image_size = 1024)"
   ]
  },
  {
   "cell_type": "code",
   "execution_count": 15,
   "metadata": {},
   "outputs": [
    {
     "name": "stderr",
     "output_type": "stream",
     "text": [
      "<ipython-input-12-7595a1c0a051>:13: UserWarning: H:/Kaggle datasets/Thesis_Diabetic/Diabetic_Retinopathy/Augmented/Train/Level_2/66bae1ba227f_Train_Level_2_426.png is a low contrast image\n",
      "  io.imsave(f'H:/Kaggle datasets/Thesis_Diabetic/Diabetic_Retinopathy/Augmented/Train/Level_{level}/{item[0]}_{p}.png',img)\n",
      "<ipython-input-12-7595a1c0a051>:13: UserWarning: H:/Kaggle datasets/Thesis_Diabetic/Diabetic_Retinopathy/Augmented/Train/Level_2/b06dabab4f09_Train_Level_2_713.png is a low contrast image\n",
      "  io.imsave(f'H:/Kaggle datasets/Thesis_Diabetic/Diabetic_Retinopathy/Augmented/Train/Level_{level}/{item[0]}_{p}.png',img)\n",
      "<ipython-input-12-7595a1c0a051>:13: UserWarning: H:/Kaggle datasets/Thesis_Diabetic/Diabetic_Retinopathy/Augmented/Train/Level_2/b6304c545f95_Train_Level_2_733.png is a low contrast image\n",
      "  io.imsave(f'H:/Kaggle datasets/Thesis_Diabetic/Diabetic_Retinopathy/Augmented/Train/Level_{level}/{item[0]}_{p}.png',img)\n",
      "<ipython-input-12-7595a1c0a051>:13: UserWarning: H:/Kaggle datasets/Thesis_Diabetic/Diabetic_Retinopathy/Augmented/Train/Level_2/3fd7df6099e3_Train_Level_2_1969.png is a low contrast image\n",
      "  io.imsave(f'H:/Kaggle datasets/Thesis_Diabetic/Diabetic_Retinopathy/Augmented/Train/Level_{level}/{item[0]}_{p}.png',img)\n",
      "<ipython-input-12-7595a1c0a051>:13: UserWarning: H:/Kaggle datasets/Thesis_Diabetic/Diabetic_Retinopathy/Augmented/Train/Level_2/77baa08a1345_Train_Level_2_2188.png is a low contrast image\n",
      "  io.imsave(f'H:/Kaggle datasets/Thesis_Diabetic/Diabetic_Retinopathy/Augmented/Train/Level_{level}/{item[0]}_{p}.png',img)\n",
      "<ipython-input-12-7595a1c0a051>:13: UserWarning: H:/Kaggle datasets/Thesis_Diabetic/Diabetic_Retinopathy/Augmented/Train/Level_2/94dcb491143f_Train_Level_2_2296.png is a low contrast image\n",
      "  io.imsave(f'H:/Kaggle datasets/Thesis_Diabetic/Diabetic_Retinopathy/Augmented/Train/Level_{level}/{item[0]}_{p}.png',img)\n"
     ]
    }
   ],
   "source": [
    "oversample_images(iterations=3,level=2,df=df_level2,path = path2, image_size = 1024)"
   ]
  },
  {
   "cell_type": "code",
   "execution_count": 16,
   "metadata": {},
   "outputs": [
    {
     "name": "stderr",
     "output_type": "stream",
     "text": [
      "<ipython-input-12-7595a1c0a051>:13: UserWarning: H:/Kaggle datasets/Thesis_Diabetic/Diabetic_Retinopathy/Augmented/Train/Level_3/bec0acd539b2_Train_Level_3_148.png is a low contrast image\n",
      "  io.imsave(f'H:/Kaggle datasets/Thesis_Diabetic/Diabetic_Retinopathy/Augmented/Train/Level_{level}/{item[0]}_{p}.png',img)\n",
      "<ipython-input-12-7595a1c0a051>:13: UserWarning: H:/Kaggle datasets/Thesis_Diabetic/Diabetic_Retinopathy/Augmented/Train/Level_3/8c0d05233238_Train_Level_3_932.png is a low contrast image\n",
      "  io.imsave(f'H:/Kaggle datasets/Thesis_Diabetic/Diabetic_Retinopathy/Augmented/Train/Level_{level}/{item[0]}_{p}.png',img)\n",
      "<ipython-input-12-7595a1c0a051>:13: UserWarning: H:/Kaggle datasets/Thesis_Diabetic/Diabetic_Retinopathy/Augmented/Train/Level_3/405b4f78658f_Train_Level_3_1039.png is a low contrast image\n",
      "  io.imsave(f'H:/Kaggle datasets/Thesis_Diabetic/Diabetic_Retinopathy/Augmented/Train/Level_{level}/{item[0]}_{p}.png',img)\n",
      "<ipython-input-12-7595a1c0a051>:13: UserWarning: H:/Kaggle datasets/Thesis_Diabetic/Diabetic_Retinopathy/Augmented/Train/Level_3/5b3e7197ac1c_Train_Level_3_1554.png is a low contrast image\n",
      "  io.imsave(f'H:/Kaggle datasets/Thesis_Diabetic/Diabetic_Retinopathy/Augmented/Train/Level_{level}/{item[0]}_{p}.png',img)\n",
      "<ipython-input-12-7595a1c0a051>:13: UserWarning: H:/Kaggle datasets/Thesis_Diabetic/Diabetic_Retinopathy/Augmented/Train/Level_3/9bf060db8376_Train_Level_3_1604.png is a low contrast image\n",
      "  io.imsave(f'H:/Kaggle datasets/Thesis_Diabetic/Diabetic_Retinopathy/Augmented/Train/Level_{level}/{item[0]}_{p}.png',img)\n",
      "<ipython-input-12-7595a1c0a051>:13: UserWarning: H:/Kaggle datasets/Thesis_Diabetic/Diabetic_Retinopathy/Augmented/Train/Level_3/0edadb2aa127_Train_Level_3_1827.png is a low contrast image\n",
      "  io.imsave(f'H:/Kaggle datasets/Thesis_Diabetic/Diabetic_Retinopathy/Augmented/Train/Level_{level}/{item[0]}_{p}.png',img)\n",
      "<ipython-input-12-7595a1c0a051>:13: UserWarning: H:/Kaggle datasets/Thesis_Diabetic/Diabetic_Retinopathy/Augmented/Train/Level_3/b2ffa3e18559_Train_Level_3_2119.png is a low contrast image\n",
      "  io.imsave(f'H:/Kaggle datasets/Thesis_Diabetic/Diabetic_Retinopathy/Augmented/Train/Level_{level}/{item[0]}_{p}.png',img)\n",
      "<ipython-input-12-7595a1c0a051>:13: UserWarning: H:/Kaggle datasets/Thesis_Diabetic/Diabetic_Retinopathy/Augmented/Train/Level_3/9c52b87d01f1_Train_Level_3_2265.png is a low contrast image\n",
      "  io.imsave(f'H:/Kaggle datasets/Thesis_Diabetic/Diabetic_Retinopathy/Augmented/Train/Level_{level}/{item[0]}_{p}.png',img)\n",
      "<ipython-input-12-7595a1c0a051>:13: UserWarning: H:/Kaggle datasets/Thesis_Diabetic/Diabetic_Retinopathy/Augmented/Train/Level_3/7d3835e4e63a_Train_Level_3_2405.png is a low contrast image\n",
      "  io.imsave(f'H:/Kaggle datasets/Thesis_Diabetic/Diabetic_Retinopathy/Augmented/Train/Level_{level}/{item[0]}_{p}.png',img)\n"
     ]
    }
   ],
   "source": [
    "oversample_images(iterations=17,level=3,df=df_level3,path = path3, image_size = 1024)"
   ]
  },
  {
   "cell_type": "code",
   "execution_count": 17,
   "metadata": {},
   "outputs": [
    {
     "name": "stderr",
     "output_type": "stream",
     "text": [
      "<ipython-input-12-7595a1c0a051>:13: UserWarning: H:/Kaggle datasets/Thesis_Diabetic/Diabetic_Retinopathy/Augmented/Train/Level_4/44ecf3f4efa5_Train_Level_4_324.png is a low contrast image\n",
      "  io.imsave(f'H:/Kaggle datasets/Thesis_Diabetic/Diabetic_Retinopathy/Augmented/Train/Level_{level}/{item[0]}_{p}.png',img)\n",
      "<ipython-input-12-7595a1c0a051>:13: UserWarning: H:/Kaggle datasets/Thesis_Diabetic/Diabetic_Retinopathy/Augmented/Train/Level_4/26463a5fb949_Train_Level_4_786.png is a low contrast image\n",
      "  io.imsave(f'H:/Kaggle datasets/Thesis_Diabetic/Diabetic_Retinopathy/Augmented/Train/Level_{level}/{item[0]}_{p}.png',img)\n",
      "<ipython-input-12-7595a1c0a051>:13: UserWarning: H:/Kaggle datasets/Thesis_Diabetic/Diabetic_Retinopathy/Augmented/Train/Level_4/312694ea8e6a_Train_Level_4_1288.png is a low contrast image\n",
      "  io.imsave(f'H:/Kaggle datasets/Thesis_Diabetic/Diabetic_Retinopathy/Augmented/Train/Level_{level}/{item[0]}_{p}.png',img)\n",
      "<ipython-input-12-7595a1c0a051>:13: UserWarning: H:/Kaggle datasets/Thesis_Diabetic/Diabetic_Retinopathy/Augmented/Train/Level_4/8ae049175db6_Train_Level_4_1397.png is a low contrast image\n",
      "  io.imsave(f'H:/Kaggle datasets/Thesis_Diabetic/Diabetic_Retinopathy/Augmented/Train/Level_{level}/{item[0]}_{p}.png',img)\n",
      "<ipython-input-12-7595a1c0a051>:13: UserWarning: H:/Kaggle datasets/Thesis_Diabetic/Diabetic_Retinopathy/Augmented/Train/Level_4/4a7dc013e802_Train_Level_4_1561.png is a low contrast image\n",
      "  io.imsave(f'H:/Kaggle datasets/Thesis_Diabetic/Diabetic_Retinopathy/Augmented/Train/Level_{level}/{item[0]}_{p}.png',img)\n",
      "<ipython-input-12-7595a1c0a051>:13: UserWarning: H:/Kaggle datasets/Thesis_Diabetic/Diabetic_Retinopathy/Augmented/Train/Level_4/2017cd92c63d_Train_Level_4_1757.png is a low contrast image\n",
      "  io.imsave(f'H:/Kaggle datasets/Thesis_Diabetic/Diabetic_Retinopathy/Augmented/Train/Level_{level}/{item[0]}_{p}.png',img)\n",
      "<ipython-input-12-7595a1c0a051>:13: UserWarning: H:/Kaggle datasets/Thesis_Diabetic/Diabetic_Retinopathy/Augmented/Train/Level_4/aeed1f251ceb_Train_Level_4_2167.png is a low contrast image\n",
      "  io.imsave(f'H:/Kaggle datasets/Thesis_Diabetic/Diabetic_Retinopathy/Augmented/Train/Level_{level}/{item[0]}_{p}.png',img)\n"
     ]
    }
   ],
   "source": [
    "oversample_images(iterations=11,level=4,df=df_level4,path = path4, image_size = 1024)"
   ]
  }
 ],
 "metadata": {
  "kernelspec": {
   "display_name": "Python 3",
   "language": "python",
   "name": "python3"
  },
  "language_info": {
   "codemirror_mode": {
    "name": "ipython",
    "version": 3
   },
   "file_extension": ".py",
   "mimetype": "text/x-python",
   "name": "python",
   "nbconvert_exporter": "python",
   "pygments_lexer": "ipython3",
   "version": "3.8.6"
  }
 },
 "nbformat": 4,
 "nbformat_minor": 4
}

{
 "cells": [
  {
   "cell_type": "code",
   "execution_count": 1,
   "metadata": {},
   "outputs": [],
   "source": [
    "import cv2 as cv\n",
    "import seaborn as sns\n",
    "import os\n",
    "import time\n",
    "import pandas as pd\n",
    "import SimpleITK as sitk\n",
    "from skimage import io"
   ]
  },
  {
   "cell_type": "code",
   "execution_count": 3,
   "metadata": {},
   "outputs": [
    {
     "name": "stdout",
     "output_type": "stream",
     "text": [
      "Successfully created directory\n"
     ]
    }
   ],
   "source": [
    "if not os.path.exists('H:/Kaggle datasets/Thesis_Diabetic'):\n",
    "    \n",
    "    try:\n",
    "        \n",
    "        os.mkdir('H:/Kaggle datasets/Thesis_Diabetic/')\n",
    "        os.mkdir('H:/Kaggle datasets/Thesis_Diabetic/Diabetic_Retinopathy/')\n",
    "        os.mkdir('H:/Kaggle datasets/Thesis_Diabetic/Diabetic_Retinopathy/Train')\n",
    "        os.mkdir('H:/Kaggle datasets/Thesis_Diabetic/Diabetic_Retinopathy/Train/Level_0')\n",
    "        os.mkdir('H:/Kaggle datasets/Thesis_Diabetic/Diabetic_Retinopathy/Train/Level_1')\n",
    "        os.mkdir('H:/Kaggle datasets/Thesis_Diabetic/Diabetic_Retinopathy/Train/Level_2')\n",
    "        os.mkdir('H:/Kaggle datasets/Thesis_Diabetic/Diabetic_Retinopathy/Train/Level_3')\n",
    "        os.mkdir('H:/Kaggle datasets/Thesis_Diabetic/Diabetic_Retinopathy/Train/Level_4')\n",
    "        os.mkdir('H:/Kaggle datasets/Thesis_Diabetic/Diabetic_Retinopathy/Test')\n",
    "        os.mkdir('H:/Kaggle datasets/Thesis_Diabetic/Diabetic_Retinopathy/Test/Level_0')\n",
    "        os.mkdir('H:/Kaggle datasets/Thesis_Diabetic/Diabetic_Retinopathy/Test/Level_1')\n",
    "        os.mkdir('H:/Kaggle datasets/Thesis_Diabetic/Diabetic_Retinopathy/Test/Level_2')\n",
    "        os.mkdir('H:/Kaggle datasets/Thesis_Diabetic/Diabetic_Retinopathy/Test/Level_3')\n",
    "        os.mkdir('H:/Kaggle datasets/Thesis_Diabetic/Diabetic_Retinopathy/Test/Level_4')\n",
    "        os.mkdir('H:/Kaggle datasets/Thesis_Diabetic/Diabetic_Retinopathy/Val')\n",
    "        os.mkdir('H:/Kaggle datasets/Thesis_Diabetic/Diabetic_Retinopathy/Val/Level_0')\n",
    "        os.mkdir('H:/Kaggle datasets/Thesis_Diabetic/Diabetic_Retinopathy/Val/Level_1')\n",
    "        os.mkdir('H:/Kaggle datasets/Thesis_Diabetic/Diabetic_Retinopathy/Val/Level_2')\n",
    "        os.mkdir('H:/Kaggle datasets/Thesis_Diabetic/Diabetic_Retinopathy/Val/Level_3')\n",
    "        os.mkdir('H:/Kaggle datasets/Thesis_Diabetic/Diabetic_Retinopathy/Val/Level_4')\n",
    "        \n",
    "    except OSError:\n",
    "        \n",
    "        print('Creation of directory failed')\n",
    "        \n",
    "    else:\n",
    "        \n",
    "        print('Successfully created directory')\n",
    "        \n",
    "else:\n",
    "    \n",
    "    print('Directory already exists')"
   ]
  },
  {
   "cell_type": "code",
   "execution_count": 4,
   "metadata": {},
   "outputs": [
    {
     "data": {
      "text/html": [
       "<div>\n",
       "<style scoped>\n",
       "    .dataframe tbody tr th:only-of-type {\n",
       "        vertical-align: middle;\n",
       "    }\n",
       "\n",
       "    .dataframe tbody tr th {\n",
       "        vertical-align: top;\n",
       "    }\n",
       "\n",
       "    .dataframe thead th {\n",
       "        text-align: right;\n",
       "    }\n",
       "</style>\n",
       "<table border=\"1\" class=\"dataframe\">\n",
       "  <thead>\n",
       "    <tr style=\"text-align: right;\">\n",
       "      <th></th>\n",
       "      <th>id_code</th>\n",
       "      <th>diagnosis</th>\n",
       "    </tr>\n",
       "  </thead>\n",
       "  <tbody>\n",
       "    <tr>\n",
       "      <th>0</th>\n",
       "      <td>000c1434d8d7</td>\n",
       "      <td>2</td>\n",
       "    </tr>\n",
       "    <tr>\n",
       "      <th>1</th>\n",
       "      <td>001639a390f0</td>\n",
       "      <td>4</td>\n",
       "    </tr>\n",
       "    <tr>\n",
       "      <th>2</th>\n",
       "      <td>0024cdab0c1e</td>\n",
       "      <td>1</td>\n",
       "    </tr>\n",
       "    <tr>\n",
       "      <th>3</th>\n",
       "      <td>002c21358ce6</td>\n",
       "      <td>0</td>\n",
       "    </tr>\n",
       "    <tr>\n",
       "      <th>4</th>\n",
       "      <td>005b95c28852</td>\n",
       "      <td>0</td>\n",
       "    </tr>\n",
       "  </tbody>\n",
       "</table>\n",
       "</div>"
      ],
      "text/plain": [
       "        id_code  diagnosis\n",
       "0  000c1434d8d7          2\n",
       "1  001639a390f0          4\n",
       "2  0024cdab0c1e          1\n",
       "3  002c21358ce6          0\n",
       "4  005b95c28852          0"
      ]
     },
     "execution_count": 4,
     "metadata": {},
     "output_type": "execute_result"
    }
   ],
   "source": [
    "df_train = pd.read_csv('H:/Diabetic Retinopathy/trainLabels19.csv')\n",
    "\n",
    "df_train.head()"
   ]
  },
  {
   "cell_type": "code",
   "execution_count": 5,
   "metadata": {},
   "outputs": [
    {
     "name": "stdout",
     "output_type": "stream",
     "text": [
      "Toal number of images in the training set id_code      3662\n",
      "diagnosis    3662\n",
      "dtype: int64\n"
     ]
    },
    {
     "data": {
      "text/plain": [
       "0    1805\n",
       "2     999\n",
       "1     370\n",
       "4     295\n",
       "3     193\n",
       "Name: diagnosis, dtype: int64"
      ]
     },
     "execution_count": 5,
     "metadata": {},
     "output_type": "execute_result"
    }
   ],
   "source": [
    "#check total number of images\n",
    "\n",
    "df_images = df_train.count()\n",
    "\n",
    "print (f'Toal number of images in the training set {df_images}')\n",
    "\n",
    "# number of images belonging to each level\n",
    "\n",
    "unique_count = df_train['diagnosis'].value_counts()\n",
    "\n",
    "unique_count"
   ]
  },
  {
   "cell_type": "code",
   "execution_count": 6,
   "metadata": {},
   "outputs": [
    {
     "data": {
      "text/plain": [
       "<matplotlib.axes._subplots.AxesSubplot at 0x26171e72f48>"
      ]
     },
     "execution_count": 6,
     "metadata": {},
     "output_type": "execute_result"
    },
    {
     "data": {
      "image/png": "[encoded data removed]",
      "text/plain": [
       "<Figure size 432x288 with 1 Axes>"
      ]
     },
     "metadata": {
      "needs_background": "light"
     },
     "output_type": "display_data"
    }
   ],
   "source": [
    "#check number of images in each class\n",
    "\n",
    "sns.countplot(x = 'diagnosis', data = df_train)"
   ]
  },
  {
   "cell_type": "code",
   "execution_count": 7,
   "metadata": {},
   "outputs": [
    {
     "data": {
      "text/html": [
       "<div>\n",
       "<style scoped>\n",
       "    .dataframe tbody tr th:only-of-type {\n",
       "        vertical-align: middle;\n",
       "    }\n",
       "\n",
       "    .dataframe tbody tr th {\n",
       "        vertical-align: top;\n",
       "    }\n",
       "\n",
       "    .dataframe thead th {\n",
       "        text-align: right;\n",
       "    }\n",
       "</style>\n",
       "<table border=\"1\" class=\"dataframe\">\n",
       "  <thead>\n",
       "    <tr style=\"text-align: right;\">\n",
       "      <th></th>\n",
       "      <th>id_code</th>\n",
       "      <th>diagnosis</th>\n",
       "    </tr>\n",
       "  </thead>\n",
       "  <tbody>\n",
       "    <tr>\n",
       "      <th>0</th>\n",
       "      <td>000c1434d8d7</td>\n",
       "      <td>2</td>\n",
       "    </tr>\n",
       "    <tr>\n",
       "      <th>1</th>\n",
       "      <td>001639a390f0</td>\n",
       "      <td>4</td>\n",
       "    </tr>\n",
       "    <tr>\n",
       "      <th>2</th>\n",
       "      <td>0024cdab0c1e</td>\n",
       "      <td>1</td>\n",
       "    </tr>\n",
       "    <tr>\n",
       "      <th>3</th>\n",
       "      <td>002c21358ce6</td>\n",
       "      <td>0</td>\n",
       "    </tr>\n",
       "    <tr>\n",
       "      <th>4</th>\n",
       "      <td>005b95c28852</td>\n",
       "      <td>0</td>\n",
       "    </tr>\n",
       "  </tbody>\n",
       "</table>\n",
       "</div>"
      ],
      "text/plain": [
       "        id_code  diagnosis\n",
       "0  000c1434d8d7          2\n",
       "1  001639a390f0          4\n",
       "2  0024cdab0c1e          1\n",
       "3  002c21358ce6          0\n",
       "4  005b95c28852          0"
      ]
     },
     "execution_count": 7,
     "metadata": {},
     "output_type": "execute_result"
    }
   ],
   "source": [
    "df_train_new = df_train.iloc[:3100,:]\n",
    "df_train_new.head()"
   ]
  },
  {
   "cell_type": "code",
   "execution_count": 8,
   "metadata": {},
   "outputs": [
    {
     "name": "stdout",
     "output_type": "stream",
     "text": [
      "Toal number of images in the new training set id_code      3100\n",
      "diagnosis    3100\n",
      "dtype: int64\n"
     ]
    },
    {
     "data": {
      "text/plain": [
       "0    1507\n",
       "2     854\n",
       "1     328\n",
       "4     246\n",
       "3     165\n",
       "Name: diagnosis, dtype: int64"
      ]
     },
     "execution_count": 8,
     "metadata": {},
     "output_type": "execute_result"
    }
   ],
   "source": [
    "df_images = df_train_new.count()\n",
    "\n",
    "print (f'Toal number of images in the new training set {df_images}')\n",
    "\n",
    "# number of images belonging to each level\n",
    "\n",
    "unique_count = df_train_new['diagnosis'].value_counts()\n",
    "\n",
    "unique_count"
   ]
  },
  {
   "cell_type": "code",
   "execution_count": 9,
   "metadata": {},
   "outputs": [
    {
     "data": {
      "text/html": [
       "<div>\n",
       "<style scoped>\n",
       "    .dataframe tbody tr th:only-of-type {\n",
       "        vertical-align: middle;\n",
       "    }\n",
       "\n",
       "    .dataframe tbody tr th {\n",
       "        vertical-align: top;\n",
       "    }\n",
       "\n",
       "    .dataframe thead th {\n",
       "        text-align: right;\n",
       "    }\n",
       "</style>\n",
       "<table border=\"1\" class=\"dataframe\">\n",
       "  <thead>\n",
       "    <tr style=\"text-align: right;\">\n",
       "      <th></th>\n",
       "      <th>id_code</th>\n",
       "      <th>diagnosis</th>\n",
       "    </tr>\n",
       "  </thead>\n",
       "  <tbody>\n",
       "    <tr>\n",
       "      <th>3101</th>\n",
       "      <td>d807c53c1399</td>\n",
       "      <td>0</td>\n",
       "    </tr>\n",
       "    <tr>\n",
       "      <th>3102</th>\n",
       "      <td>d81338217fc5</td>\n",
       "      <td>2</td>\n",
       "    </tr>\n",
       "    <tr>\n",
       "      <th>3103</th>\n",
       "      <td>d81b6ed83bc2</td>\n",
       "      <td>2</td>\n",
       "    </tr>\n",
       "    <tr>\n",
       "      <th>3104</th>\n",
       "      <td>d838d5b9f571</td>\n",
       "      <td>0</td>\n",
       "    </tr>\n",
       "    <tr>\n",
       "      <th>3105</th>\n",
       "      <td>d83c3efade75</td>\n",
       "      <td>2</td>\n",
       "    </tr>\n",
       "  </tbody>\n",
       "</table>\n",
       "</div>"
      ],
      "text/plain": [
       "           id_code  diagnosis\n",
       "3101  d807c53c1399          0\n",
       "3102  d81338217fc5          2\n",
       "3103  d81b6ed83bc2          2\n",
       "3104  d838d5b9f571          0\n",
       "3105  d83c3efade75          2"
      ]
     },
     "execution_count": 9,
     "metadata": {},
     "output_type": "execute_result"
    }
   ],
   "source": [
    "df_val = df_train.iloc[3101:,:]\n",
    "df_val.head()"
   ]
  },
  {
   "cell_type": "code",
   "execution_count": 10,
   "metadata": {},
   "outputs": [
    {
     "name": "stdout",
     "output_type": "stream",
     "text": [
      "Toal number of images in the new training set id_code      561\n",
      "diagnosis    561\n",
      "dtype: int64\n"
     ]
    },
    {
     "data": {
      "text/plain": [
       "0    298\n",
       "2    145\n",
       "4     48\n",
       "1     42\n",
       "3     28\n",
       "Name: diagnosis, dtype: int64"
      ]
     },
     "execution_count": 10,
     "metadata": {},
     "output_type": "execute_result"
    }
   ],
   "source": [
    "df_images = df_val.count()\n",
    "\n",
    "print (f'Toal number of images in the new training set {df_images}')\n",
    "\n",
    "# number of images belonging to each level\n",
    "\n",
    "unique_count = df_val['diagnosis'].value_counts()\n",
    "\n",
    "unique_count"
   ]
  },
  {
   "cell_type": "code",
   "execution_count": 11,
   "metadata": {},
   "outputs": [
    {
     "data": {
      "text/plain": [
       "<matplotlib.axes._subplots.AxesSubplot at 0x2616fc90108>"
      ]
     },
     "execution_count": 11,
     "metadata": {},
     "output_type": "execute_result"
    },
    {
     "data": {
      "image/png": "[encoded data removed]",
      "text/plain": [
       "<Figure size 432x288 with 1 Axes>"
      ]
     },
     "metadata": {
      "needs_background": "light"
     },
     "output_type": "display_data"
    }
   ],
   "source": [
    "#train set\n",
    "\n",
    "sns.countplot(x = 'diagnosis', data = df_train_new)"
   ]
  },
  {
   "cell_type": "code",
   "execution_count": 12,
   "metadata": {},
   "outputs": [
    {
     "data": {
      "text/plain": [
       "<matplotlib.axes._subplots.AxesSubplot at 0x26171ff4608>"
      ]
     },
     "execution_count": 12,
     "metadata": {},
     "output_type": "execute_result"
    },
    {
     "data": {
      "image/png": "[encoded data removed]",
      "text/plain": [
       "<Figure size 432x288 with 1 Axes>"
      ]
     },
     "metadata": {
      "needs_background": "light"
     },
     "output_type": "display_data"
    }
   ],
   "source": [
    "sns.countplot(x = 'diagnosis', data = df_val)"
   ]
  },
  {
   "cell_type": "code",
   "execution_count": 13,
   "metadata": {},
   "outputs": [],
   "source": [
    "def create_dataset(df,path,image_size,dataset):\n",
    "    \n",
    "    for i, item in df.iterrows():\n",
    "        \n",
    "        img = sitk.ReadImage(path + item[0] +'.jpg')\n",
    "        img = sitk.GetArrayFromImage(img)\n",
    "        img = cv.resize(img,(image_size,image_size))\n",
    "        \n",
    "        if item[1]==0:\n",
    "            io.imsave(f'H:/Kaggle datasets/Thesis_Diabetic/Diabetic_Retinopathy/{dataset}/Level_0/'+item[0]+f'_{dataset}_Level_0.png',img)\n",
    "        elif item[1]==1:\n",
    "            io.imsave(f'H:/Kaggle datasets/Thesis_Diabetic/Diabetic_Retinopathy/{dataset}/Level_1/'+item[0]+f'_{dataset}_Level_1.png',img)\n",
    "        elif item[1]==2:\n",
    "            io.imsave(f'H:/Kaggle datasets/Thesis_Diabetic/Diabetic_Retinopathy/{dataset}/Level_2/'+item[0]+f'_{dataset}_Level_2.png',img)\n",
    "        elif item[1]==3:\n",
    "            io.imsave(f'H:/Kaggle datasets/Thesis_Diabetic/Diabetic_Retinopathy/{dataset}/Level_3/'+item[0]+f'_{dataset}_Level_3.png',img)\n",
    "        else:\n",
    "            io.imsave(f'H:/Kaggle datasets/Thesis_Diabetic/Diabetic_Retinopathy/{dataset}/Level_4/'+item[0]+f'_{dataset}_Level_4.png',img)"
   ]
  },
  {
   "cell_type": "code",
   "execution_count": 15,
   "metadata": {},
   "outputs": [
    {
     "name": "stdout",
     "output_type": "stream",
     "text": [
      "Training set created\n"
     ]
    }
   ],
   "source": [
    "path_train = 'H:/Diabetic Retinopathy/resized train 19/'\n",
    "\n",
    "create_dataset(df_train_new,path_train,image_size=1024,dataset='Train')\n",
    "\n",
    "print('Training set created')"
   ]
  },
  {
   "cell_type": "code",
   "execution_count": 16,
   "metadata": {},
   "outputs": [
    {
     "name": "stdout",
     "output_type": "stream",
     "text": [
      "Validation set created\n"
     ]
    }
   ],
   "source": [
    "create_dataset(df_val,path_train,image_size=1024,dataset='Val')\n",
    "\n",
    "print('Validation set created')"
   ]
  },
  {
   "cell_type": "code",
   "execution_count": 17,
   "metadata": {},
   "outputs": [
    {
     "data": {
      "text/html": [
       "<div>\n",
       "<style scoped>\n",
       "    .dataframe tbody tr th:only-of-type {\n",
       "        vertical-align: middle;\n",
       "    }\n",
       "\n",
       "    .dataframe tbody tr th {\n",
       "        vertical-align: top;\n",
       "    }\n",
       "\n",
       "    .dataframe thead th {\n",
       "        text-align: right;\n",
       "    }\n",
       "</style>\n",
       "<table border=\"1\" class=\"dataframe\">\n",
       "  <thead>\n",
       "    <tr style=\"text-align: right;\">\n",
       "      <th></th>\n",
       "      <th>id_code</th>\n",
       "    </tr>\n",
       "  </thead>\n",
       "  <tbody>\n",
       "    <tr>\n",
       "      <th>0</th>\n",
       "      <td>0005cfc8afb6</td>\n",
       "    </tr>\n",
       "    <tr>\n",
       "      <th>1</th>\n",
       "      <td>003f0afdcd15</td>\n",
       "    </tr>\n",
       "    <tr>\n",
       "      <th>2</th>\n",
       "      <td>006efc72b638</td>\n",
       "    </tr>\n",
       "    <tr>\n",
       "      <th>3</th>\n",
       "      <td>00836aaacf06</td>\n",
       "    </tr>\n",
       "    <tr>\n",
       "      <th>4</th>\n",
       "      <td>009245722fa4</td>\n",
       "    </tr>\n",
       "  </tbody>\n",
       "</table>\n",
       "</div>"
      ],
      "text/plain": [
       "        id_code\n",
       "0  0005cfc8afb6\n",
       "1  003f0afdcd15\n",
       "2  006efc72b638\n",
       "3  00836aaacf06\n",
       "4  009245722fa4"
      ]
     },
     "execution_count": 17,
     "metadata": {},
     "output_type": "execute_result"
    }
   ],
   "source": [
    "df_test = pd.read_csv('H:/Diabetic Retinopathy/testImages19.csv')\n",
    "\n",
    "df_test.head()"
   ]
  },
  {
   "cell_type": "code",
   "execution_count": null,
   "metadata": {},
   "outputs": [],
   "source": []
  }
 ],
 "metadata": {
  "kernelspec": {
   "display_name": "Python 3",
   "language": "python",
   "name": "python3"
  },
  "language_info": {
   "codemirror_mode": {
    "name": "ipython",
    "version": 3
   },
   "file_extension": ".py",
   "mimetype": "text/x-python",
   "name": "python",
   "nbconvert_exporter": "python",
   "pygments_lexer": "ipython3",
   "version": "3.7.6"
  }
 },
 "nbformat": 4,
 "nbformat_minor": 4
}
